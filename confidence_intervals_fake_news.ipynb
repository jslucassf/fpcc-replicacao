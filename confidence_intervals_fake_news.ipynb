{
 "cells": [
  {
   "cell_type": "markdown",
   "metadata": {},
   "source": [
    "# Verificando a veracidade da checagem das notícias do Corpus Fake.br"
   ]
  },
  {
   "cell_type": "code",
   "execution_count": 4,
   "metadata": {},
   "outputs": [],
   "source": [
    "import numpy as np\n",
    "import pandas as pd\n",
    "from random import seed\n",
    "from random import randint\n",
    "\n",
    "pd.options.display.max_colwidth = 1000"
   ]
  },
  {
   "cell_type": "markdown",
   "metadata": {},
   "source": [
    "# Dados"
   ]
  },
  {
   "cell_type": "code",
   "execution_count": 5,
   "metadata": {},
   "outputs": [],
   "source": [
    "seed(42)\n",
    "sample = list(map(lambda x : randint(1, 3600), range(20)))\n",
    "sample.sort()"
   ]
  },
  {
   "cell_type": "code",
   "execution_count": 6,
   "metadata": {},
   "outputs": [
    {
     "name": "stdout",
     "output_type": "stream",
     "text": [
      "[103, 123, 131, 357, 384, 420, 457, 572, 896, 915, 1004, 1127, 1729, 2234, 2419, 2620, 2772, 3017, 3034, 3038]\n"
     ]
    }
   ],
   "source": [
    "print(sample)"
   ]
  },
  {
   "cell_type": "code",
   "execution_count": 7,
   "metadata": {},
   "outputs": [],
   "source": [
    "# Selecionando amostra de notícias classificadas como falsas\n",
    "noticias_meta_header = [\"author\", \"link\", \"category\", \"date_of_publication\", \"number_of_tokens\", \"words_without_punct\", \"number_of_types\",\n",
    "                        \"number_of_links\", \"upper_case_words\", \"number_of_verbs\", \"subj_and_imp_verbs\", \"number_of_nouns\", \"number_of_adjectives\",\n",
    "                        \"number_of_adverbs\", \"number_modal_verbs\", \"sing_first_sec_personal_pronouns\", \"plural_first_personal_pronouns\", \"number_of_pronouns\",\n",
    "                        \"pausality\", \"number_of_characters\", \"avg_sentence_length\", \"average_word_length\", \"perc_news_with_speeling_errors\", \n",
    "                        \"emotiveness\", \"diversity\"]\n",
    "\n",
    "noticias_fake_meta = pd.DataFrame(columns=noticias_meta_header)\n",
    "\n",
    "for noticia in sample:\n",
    "    with open(\"full_texts/fake-meta-information/{}-meta.txt\".format(noticia), 'r') as f:\n",
    "        data = f.read().replace('\\n',',').replace(',,','\\n')\n",
    "        nova_noticia = pd.read_csv(pd.compat.StringIO(data), names = noticias_meta_header)\n",
    "        noticias_fake_meta = noticias_fake_meta.append(nova_noticia, ignore_index=True)\n",
    "        \n",
    "\n",
    "\n",
    "noticias_fake_meta"
   ]
  },
  {
   "cell_type": "code",
   "execution_count": 9,
   "metadata": {},
   "outputs": [
    {
     "data": {
      "text/plain": [
       "0                       https://ceticismopolitico.com/2017/11/30/katia-abreu-diz-que-vai-colocar-sua-expulsao-em-uma-moldura-mas-nao-para-de-reclamar/\n",
       "1       https://ceticismopolitico.com/2017/11/24/dr-ray-peita-bolsonaro-chama-o-de-conservador-fake-em-entrevista-a-danilo-gentili-e-divide-a-direita/\n",
       "2                                                             https://afolhabrasil.com.br/politica/reinaldo-azevedo-desmascarado-pela-policia-federal/\n",
       "3                        https://www.diariodobrasil.org/relatorio-assustador-do-bndes-mostra-dinheiro-publico-do-brasil-jorrando-em-paises-comunistas/\n",
       "4                   https://www.diariodobrasil.org/radialista-americano-detona-o-pt-a-esquerda-so-vende-ilusao-eles-so-pensam-em-se-divertir-no-sitio/\n",
       "5                  https://www.diariodobrasil.org/situacao-de-waack-e-mais-grave-do-que-se-pensava-apresentador-continuara-internado-no-sirio-libanes/\n",
       "6                             https://www.diariodobrasil.org/problema-cardiaco-tira-william-waack-do-jornal-da-globo-apresentador-sera-operado-amanha/\n",
       "7                                                        https://www.diariodobrasil.org/edir-macedo-podera-disputar-as-eleicoes-presidenciais-de-2018/\n",
       "8                                       https://www.diariodobrasil.org/boechat-sobre-lula-sua-alma-pode-ser-honesta-mas-no-seu-governo-fez-se-o-diabo/\n",
       "9                    https://www.diariodobrasil.org/pt-diz-que-lula-nao-tem-dinheiro-para-sobreviver-e-chama-moro-de-mentirosomesquinho-e-conspirador/\n",
       "10                             https://www.diariodobrasil.org/numero-de-fuzilados-durante-o-regime-de-fidel-castro-pode-ter-chegado-a-casa-dos-17-mil/\n",
       "11                     https://www.diariodobrasil.org/coodenador-da-lava-jato-se-revolta-aumento-de-impostos-os-corruptos-desviam-200-bilhoes-por-ano/\n",
       "12                                                 https://www.diariodobrasil.org/lula-voce-nao-sabe-o-que-esse-moleque-sofreu-por-ser-dono-da-friboi/\n",
       "13                                                                      https://afolhabrasil.com.br/politica/urgente-janot-pede-prisao-de-aecio-neves/\n",
       "14                              https://www.diariodobrasil.org/lula-recebe-intimacao-da-justica-e-escreve-com-letras-esgarranchadas-pretendo-recorrer/\n",
       "15        https://www.diariodobrasil.org/americano-revoltado-escreve-texto-e-viraliza-na-internet-20-razoes-porque-eu-odeio-o-brasil-e-os-brasileiros/\n",
       "16                          https://www.diariodobrasil.org/ministro-da-defesa-nao-descarta-intervencao-militar-se-os-politicos-nao-resolverem-a-crise/\n",
       "17                    https://www.diariodobrasil.org/diogo-portugal-da-conselho-valioso-para-lula-viu-o-eike-corre-e-compra-um-diploma-ainda-da-tempo/\n",
       "18          https://www.diariodobrasil.org/internauta-rebate-texto-de-americano-que-criticou-o-brasil-antes-de-falar-verifique-as-mazelas-de-seu-pais/\n",
       "19                                   https://www.diariodobrasil.org/fundo-de-pensao-de-lula-tem-dinheiro-da-globo-microsoft-lojas-americanas-e-nestle/\n",
       "20             https://www.diariodobrasil.org/irene-ravache-se-revolta-com-a-soltura-da-assassina-de-isabella-nardoni-somos-maes-e-nao-aceitamos-isso/\n",
       "21                     https://www.diariodobrasil.org/jornalista-encurrala-rodrigo-maia-o-sr-vai-dar-um-golpe-no-temer-assim-como-ele-fez-com-a-dilma/\n",
       "22                      https://www.diariodobrasil.org/vereador-que-matou-cascavel-com-mordida-recebe-alta-de-hospital-ela-me-mordeu-e-eu-dei-o-troco/\n",
       "23                     https://www.diariodobrasil.org/deputado-extrapola-o-bom-senso-e-chama-gloria-pires-e-wagner-moura-de-vagabundos-da-lei-rouanet/\n",
       "24                                         https://afolhabrasil.com.br/politica/mae-que-furtou-ovo-de-pascoa-recebeu-pena-maior-que-reus-da-lava-jato/\n",
       "25                                           https://www.diariodobrasil.org/e-impossivel-repetir-meu-sucesso-disse-lula-ao-jornal-ingles-the-guardian/\n",
       "26       https://www.diariodobrasil.org/escandalo-vaticano-vai-julgar-cardeal-que-desviou-verba-de-hospital-infantil-para-reformar-apto-de-700m%c2%b2/\n",
       "27                            https://www.diariodobrasil.org/a-vinganca-cunha-delata-todos-os-parlamentares-que-receberam-dinheiro-para-afastar-dilma/\n",
       "28                                       https://www.diariodobrasil.org/brasil-tera-neve-somente-amanha-veja-os-locais-onde-o-fenomeno-podera-ocorrer/\n",
       "29                  https://www.diariodobrasil.org/tv-record-promete-desmascarar-a-globo-sonegacao-fiscal-leis-encomendadas-e-emprestimos-bilionarios/\n",
       "                                                                             ...                                                                      \n",
       "3570                                                           https://www.diariodobrasil.org/apresentadora-da-globo-manda-silvio-santos-calar-a-boca/\n",
       "3571                     https://www.diariodobrasil.org/tiririca-rasga-o-verbo-temer-errou-e-tem-que-pagar-nao-preciso-e-nem-quero-favores-do-governo/\n",
       "3572                                  https://www.diariodobrasil.org/motociclista-mais-sexy-do-mundo-morre-apos-tentar-tirar-selfie-a-mais-de-200-kmh/\n",
       "3573                                 https://www.diariodobrasil.org/a-politica-brasileira-e-uma-farsa-quem-manda-nesse-pais-e-financiador-de-campanha/\n",
       "3574                 https://www.diariodobrasil.org/populacao-da-suecia-esta-chocada-com-politico-que-desviou-r-38-mil-para-comprar-agua-e-amendoim02/\n",
       "3575                                    https://www.diariodobrasil.org/deputado-baba-ovo-de-temer-ataca-jornalista-da-folha-e-leva-lacrada-antologica/\n",
       "3576                       https://www.diariodobrasil.org/sertanejo-que-vendeu-11-milhoes-de-discos-passa-por-dificuldades-minha-mae-tem-me-ajudado25/\n",
       "3577                            https://www.diariodobrasil.org/diario-do-ex-presidente-john-kennedy-confirma-que-morte-de-hitler-foi-uma-farsa-armada/\n",
       "3578                                                                   https://afolhabrasil.com.br/politica/senado-quer-criminalizar-o-funk-no-brasil/\n",
       "3579                      https://www.diariodobrasil.org/neurocirurgiao-de-harvard-que-esteve-em-coma-sobrevive-e-confirma-que-ha-vida-apos-a-morte30/\n",
       "3580                           https://www.diariodobrasil.org/ex-companheiro-de-david-beckham-no-manchester-united-torra-todo-patrimonio-e-vira-padre/\n",
       "3581                          https://www.diariodobrasil.org/datena-coloca-video-de-aecio-no-ar-e-rasga-o-verbo-seu-vagabundo-deveria-estar-na-cadeia/\n",
       "3582                  https://www.diariodobrasil.org/lula-sobre-os-9-milhoes-nao-devo-satisfacoes-pensei-que-moro-fosse-me-absolver-e-pedir-desculpas/\n",
       "3583                       https://www.diariodobrasil.org/pesquisa-cniibope-temer-entra-para-o-seleto-grupo-dos-piores-presidentes-de-todos-os-tempos/\n",
       "3584                                      https://www.diariodobrasil.org/no-rio-grupo-cria-seu-proprio-codigo-penal-e-promete-agir-no-lugar-do-estado/\n",
       "3585                                   https://www.diariodobrasil.org/estudante-de-20-anos-moradora-do-acre-transmite-suicidio-ao-vivo-pelo-instagram/\n",
       "3586                https://www.diariodobrasil.org/apos-torrar-r-4-bilhoes-em-emendas-governo-temer-anuncia-corte-de-r-400-milhoes-na-policia-federal/\n",
       "3587                            https://www.diariodobrasil.org/jovem-de-14-anos-que-sofreu-abuso-de-padre-filmou-tudo-e-video-vazou-nas-redes-sociais/\n",
       "3588                    https://www.diariodobrasil.org/tragedia-no-acre-pai-e-mae-da-jovem-de-20-anos-que-se-suicidou-ontem-27-sao-encontrados-mortos/\n",
       "3589                                                                     https://afolhabrasil.com.br/politica/caiu-mascara-do-prof-villa-da-jovem-pan/\n",
       "3590                                    https://www.diariodobrasil.org/cachorro-estende-a-pata-para-ajudar-idoso-bebado-a-subir-na-plataforma-de-trem/\n",
       "3591                                      https://www.diariodobrasil.org/pesquisa-internacional-revela-que-brasileiro-e-o-3o-povo-mais-burro-do-mundo/\n",
       "3592                       https://www.diariodobrasil.org/deputado-e-senador-pedem-para-abrir-mao-do-foro-privilegiado-todos-sao-iguais-perante-a-lei/\n",
       "3593                                 https://www.diariodobrasil.org/juca-e-hostilizado-em-aeroporto-pilantra-vai-pra-casa-ne-vai-pra-cadeia-picareta2/\n",
       "3594                            https://www.diariodobrasil.org/cabra-nasce-com-rosto-humano-e-populacao-diz-que-e-o-demonio-anunciando-o-fim-do-mundo/\n",
       "3595                           https://www.diariodobrasil.org/ft-o-julgamento-de-um-populista-que-usou-dinheiro-publico-e-ajudou-a-afundar-o-brasilll/\n",
       "3596                           https://www.diariodobrasil.org/nota-fiscal-emitida-pela-petrobras-mostra-que-gasolina-e-vendida-a-r-159-para-a-bolivia/\n",
       "3597                                               https://www.diariodobrasil.org/estao-estancando-a-sangria-da-lava-jato-bem-debaixo-do-nosso-nariz1/\n",
       "3598                                 https://www.diariodobrasil.org/rj-cidadao-finge-estar-possuido-pela-pomba-gira-para-escapar-de-blitz-da-lei-seca/\n",
       "3599                        https://www.diariodobrasil.org/autor-de-best-seller-cita-5-expressoes-que-indicam-que-voce-nao-tem-inteligencia-emocional/\n",
       "Name: link, Length: 3600, dtype: object"
      ]
     },
     "execution_count": 9,
     "metadata": {},
     "output_type": "execute_result"
    }
   ],
   "source": [
    "noticias_fake_meta[\"link\"]"
   ]
  },
  {
   "cell_type": "code",
   "execution_count": 10,
   "metadata": {},
   "outputs": [
    {
     "ename": "ValueError",
     "evalue": "Length of values does not match length of index",
     "output_type": "error",
     "traceback": [
      "\u001b[0;31m---------------------------------------------------------------------------\u001b[0m",
      "\u001b[0;31mValueError\u001b[0m                                Traceback (most recent call last)",
      "\u001b[0;32m<ipython-input-10-af115c2fb762>\u001b[0m in \u001b[0;36m<module>\u001b[0;34m\u001b[0m\n\u001b[1;32m      1\u001b[0m \u001b[0;31m# Após análise manual, 1 representa que a notícia em questão foi verificada e é realmente falsa, 0 representa diferença da verificação dos autores\u001b[0m\u001b[0;34m\u001b[0m\u001b[0;34m\u001b[0m\u001b[0;34m\u001b[0m\u001b[0m\n\u001b[0;32m----> 2\u001b[0;31m \u001b[0mnoticias_fake_meta\u001b[0m\u001b[0;34m[\u001b[0m\u001b[0;34m\"fake\"\u001b[0m\u001b[0;34m]\u001b[0m \u001b[0;34m=\u001b[0m \u001b[0;34m[\u001b[0m\u001b[0;36m1\u001b[0m\u001b[0;34m,\u001b[0m \u001b[0;36m1\u001b[0m\u001b[0;34m,\u001b[0m \u001b[0;36m1\u001b[0m\u001b[0;34m,\u001b[0m \u001b[0;36m1\u001b[0m\u001b[0;34m,\u001b[0m \u001b[0;36m1\u001b[0m\u001b[0;34m,\u001b[0m \u001b[0;36m1\u001b[0m\u001b[0;34m,\u001b[0m \u001b[0;36m0\u001b[0m\u001b[0;34m,\u001b[0m \u001b[0;36m0\u001b[0m\u001b[0;34m,\u001b[0m \u001b[0;36m0\u001b[0m\u001b[0;34m,\u001b[0m \u001b[0;36m1\u001b[0m\u001b[0;34m,\u001b[0m \u001b[0;36m1\u001b[0m\u001b[0;34m,\u001b[0m \u001b[0;36m1\u001b[0m\u001b[0;34m,\u001b[0m \u001b[0;36m1\u001b[0m\u001b[0;34m,\u001b[0m \u001b[0;36m1\u001b[0m\u001b[0;34m,\u001b[0m \u001b[0;36m1\u001b[0m\u001b[0;34m,\u001b[0m \u001b[0;36m0\u001b[0m\u001b[0;34m,\u001b[0m \u001b[0;36m1\u001b[0m\u001b[0;34m,\u001b[0m \u001b[0;36m1\u001b[0m\u001b[0;34m,\u001b[0m \u001b[0;36m0\u001b[0m\u001b[0;34m,\u001b[0m \u001b[0;36m0\u001b[0m\u001b[0;34m]\u001b[0m\u001b[0;34m\u001b[0m\u001b[0;34m\u001b[0m\u001b[0m\n\u001b[0m",
      "\u001b[0;32m/usr/local/lib/python3.7/dist-packages/pandas/core/frame.py\u001b[0m in \u001b[0;36m__setitem__\u001b[0;34m(self, key, value)\u001b[0m\n\u001b[1;32m   3368\u001b[0m         \u001b[0;32melse\u001b[0m\u001b[0;34m:\u001b[0m\u001b[0;34m\u001b[0m\u001b[0;34m\u001b[0m\u001b[0m\n\u001b[1;32m   3369\u001b[0m             \u001b[0;31m# set column\u001b[0m\u001b[0;34m\u001b[0m\u001b[0;34m\u001b[0m\u001b[0;34m\u001b[0m\u001b[0m\n\u001b[0;32m-> 3370\u001b[0;31m             \u001b[0mself\u001b[0m\u001b[0;34m.\u001b[0m\u001b[0m_set_item\u001b[0m\u001b[0;34m(\u001b[0m\u001b[0mkey\u001b[0m\u001b[0;34m,\u001b[0m \u001b[0mvalue\u001b[0m\u001b[0;34m)\u001b[0m\u001b[0;34m\u001b[0m\u001b[0;34m\u001b[0m\u001b[0m\n\u001b[0m\u001b[1;32m   3371\u001b[0m \u001b[0;34m\u001b[0m\u001b[0m\n\u001b[1;32m   3372\u001b[0m     \u001b[0;32mdef\u001b[0m \u001b[0m_setitem_slice\u001b[0m\u001b[0;34m(\u001b[0m\u001b[0mself\u001b[0m\u001b[0;34m,\u001b[0m \u001b[0mkey\u001b[0m\u001b[0;34m,\u001b[0m \u001b[0mvalue\u001b[0m\u001b[0;34m)\u001b[0m\u001b[0;34m:\u001b[0m\u001b[0;34m\u001b[0m\u001b[0;34m\u001b[0m\u001b[0m\n",
      "\u001b[0;32m/usr/local/lib/python3.7/dist-packages/pandas/core/frame.py\u001b[0m in \u001b[0;36m_set_item\u001b[0;34m(self, key, value)\u001b[0m\n\u001b[1;32m   3443\u001b[0m \u001b[0;34m\u001b[0m\u001b[0m\n\u001b[1;32m   3444\u001b[0m         \u001b[0mself\u001b[0m\u001b[0;34m.\u001b[0m\u001b[0m_ensure_valid_index\u001b[0m\u001b[0;34m(\u001b[0m\u001b[0mvalue\u001b[0m\u001b[0;34m)\u001b[0m\u001b[0;34m\u001b[0m\u001b[0;34m\u001b[0m\u001b[0m\n\u001b[0;32m-> 3445\u001b[0;31m         \u001b[0mvalue\u001b[0m \u001b[0;34m=\u001b[0m \u001b[0mself\u001b[0m\u001b[0;34m.\u001b[0m\u001b[0m_sanitize_column\u001b[0m\u001b[0;34m(\u001b[0m\u001b[0mkey\u001b[0m\u001b[0;34m,\u001b[0m \u001b[0mvalue\u001b[0m\u001b[0;34m)\u001b[0m\u001b[0;34m\u001b[0m\u001b[0;34m\u001b[0m\u001b[0m\n\u001b[0m\u001b[1;32m   3446\u001b[0m         \u001b[0mNDFrame\u001b[0m\u001b[0;34m.\u001b[0m\u001b[0m_set_item\u001b[0m\u001b[0;34m(\u001b[0m\u001b[0mself\u001b[0m\u001b[0;34m,\u001b[0m \u001b[0mkey\u001b[0m\u001b[0;34m,\u001b[0m \u001b[0mvalue\u001b[0m\u001b[0;34m)\u001b[0m\u001b[0;34m\u001b[0m\u001b[0;34m\u001b[0m\u001b[0m\n\u001b[1;32m   3447\u001b[0m \u001b[0;34m\u001b[0m\u001b[0m\n",
      "\u001b[0;32m/usr/local/lib/python3.7/dist-packages/pandas/core/frame.py\u001b[0m in \u001b[0;36m_sanitize_column\u001b[0;34m(self, key, value, broadcast)\u001b[0m\n\u001b[1;32m   3628\u001b[0m \u001b[0;34m\u001b[0m\u001b[0m\n\u001b[1;32m   3629\u001b[0m             \u001b[0;31m# turn me into an ndarray\u001b[0m\u001b[0;34m\u001b[0m\u001b[0;34m\u001b[0m\u001b[0;34m\u001b[0m\u001b[0m\n\u001b[0;32m-> 3630\u001b[0;31m             \u001b[0mvalue\u001b[0m \u001b[0;34m=\u001b[0m \u001b[0msanitize_index\u001b[0m\u001b[0;34m(\u001b[0m\u001b[0mvalue\u001b[0m\u001b[0;34m,\u001b[0m \u001b[0mself\u001b[0m\u001b[0;34m.\u001b[0m\u001b[0mindex\u001b[0m\u001b[0;34m,\u001b[0m \u001b[0mcopy\u001b[0m\u001b[0;34m=\u001b[0m\u001b[0;32mFalse\u001b[0m\u001b[0;34m)\u001b[0m\u001b[0;34m\u001b[0m\u001b[0;34m\u001b[0m\u001b[0m\n\u001b[0m\u001b[1;32m   3631\u001b[0m             \u001b[0;32mif\u001b[0m \u001b[0;32mnot\u001b[0m \u001b[0misinstance\u001b[0m\u001b[0;34m(\u001b[0m\u001b[0mvalue\u001b[0m\u001b[0;34m,\u001b[0m \u001b[0;34m(\u001b[0m\u001b[0mnp\u001b[0m\u001b[0;34m.\u001b[0m\u001b[0mndarray\u001b[0m\u001b[0;34m,\u001b[0m \u001b[0mIndex\u001b[0m\u001b[0;34m)\u001b[0m\u001b[0;34m)\u001b[0m\u001b[0;34m:\u001b[0m\u001b[0;34m\u001b[0m\u001b[0;34m\u001b[0m\u001b[0m\n\u001b[1;32m   3632\u001b[0m                 \u001b[0;32mif\u001b[0m \u001b[0misinstance\u001b[0m\u001b[0;34m(\u001b[0m\u001b[0mvalue\u001b[0m\u001b[0;34m,\u001b[0m \u001b[0mlist\u001b[0m\u001b[0;34m)\u001b[0m \u001b[0;32mand\u001b[0m \u001b[0mlen\u001b[0m\u001b[0;34m(\u001b[0m\u001b[0mvalue\u001b[0m\u001b[0;34m)\u001b[0m \u001b[0;34m>\u001b[0m \u001b[0;36m0\u001b[0m\u001b[0;34m:\u001b[0m\u001b[0;34m\u001b[0m\u001b[0;34m\u001b[0m\u001b[0m\n",
      "\u001b[0;32m/usr/local/lib/python3.7/dist-packages/pandas/core/internals/construction.py\u001b[0m in \u001b[0;36msanitize_index\u001b[0;34m(data, index, copy)\u001b[0m\n\u001b[1;32m    517\u001b[0m \u001b[0;34m\u001b[0m\u001b[0m\n\u001b[1;32m    518\u001b[0m     \u001b[0;32mif\u001b[0m \u001b[0mlen\u001b[0m\u001b[0;34m(\u001b[0m\u001b[0mdata\u001b[0m\u001b[0;34m)\u001b[0m \u001b[0;34m!=\u001b[0m \u001b[0mlen\u001b[0m\u001b[0;34m(\u001b[0m\u001b[0mindex\u001b[0m\u001b[0;34m)\u001b[0m\u001b[0;34m:\u001b[0m\u001b[0;34m\u001b[0m\u001b[0;34m\u001b[0m\u001b[0m\n\u001b[0;32m--> 519\u001b[0;31m         \u001b[0;32mraise\u001b[0m \u001b[0mValueError\u001b[0m\u001b[0;34m(\u001b[0m\u001b[0;34m'Length of values does not match length of index'\u001b[0m\u001b[0;34m)\u001b[0m\u001b[0;34m\u001b[0m\u001b[0;34m\u001b[0m\u001b[0m\n\u001b[0m\u001b[1;32m    520\u001b[0m \u001b[0;34m\u001b[0m\u001b[0m\n\u001b[1;32m    521\u001b[0m     \u001b[0;32mif\u001b[0m \u001b[0misinstance\u001b[0m\u001b[0;34m(\u001b[0m\u001b[0mdata\u001b[0m\u001b[0;34m,\u001b[0m \u001b[0mABCIndexClass\u001b[0m\u001b[0;34m)\u001b[0m \u001b[0;32mand\u001b[0m \u001b[0;32mnot\u001b[0m \u001b[0mcopy\u001b[0m\u001b[0;34m:\u001b[0m\u001b[0;34m\u001b[0m\u001b[0;34m\u001b[0m\u001b[0m\n",
      "\u001b[0;31mValueError\u001b[0m: Length of values does not match length of index"
     ]
    }
   ],
   "source": [
    "# Após análise manual, 1 representa que a notícia em questão foi verificada e é realmente falsa, 0 representa diferença da verificação dos autores\n",
    "noticias_fake_meta[\"fake\"] = [1, 1, 1, 1, 1, 1, 0, 0, 0, 1, 1, 1, 1, 1, 1, 0, 1, 1, 0, 0]"
   ]
  },
  {
   "cell_type": "code",
   "execution_count": 150,
   "metadata": {},
   "outputs": [
    {
     "data": {
      "text/plain": [
       "0                                                       http://politica.estadao.com.br/noticias/geral,joesley-se-mantem-em-silencio-em-cpmi,70002099768\n",
       "1                                       http://politica.estadao.com.br/blogs/fausto-macedo/carmen-durante-recesso-mantem-ativos-processos-da-lava-jato/\n",
       "2                    http://www1.folha.uol.com.br/poder/2018/01/1948446-estudante-cria-igreja-inspirada-em-game-para-debater-imunidade-tributaria.shtml\n",
       "3                                                  https://g1.globo.com/mundo/noticia/eua-afirmam-que-negociacoes-com-pyongyang-ainda-estao-longe.ghtml\n",
       "4                         https://g1.globo.com/mundo/noticia/a-vida-das-desertoras-norte-coreanas-que-se-tornaram-estrelas-de-tv-na-coreia-do-sul.ghtml\n",
       "5                                           https://g1.globo.com/mundo/noticia/donald-trump-anuncia-mike-pompeo-como-secretario-de-estado-dos-eua.ghtml\n",
       "6                   https://g1.globo.com/espirito-santo/noticia/prefeitos-esvaziam-reuniao-na-assembleia-legislativa-do-es-sobre-uso-de-royalties.ghtml\n",
       "7                   http://sustentabilidade.estadao.com.br/noticias/geral,papa-francisco-diz-que-teoria-do-big-bang-nao-contradiz-papel-de-deus,1584436\n",
       "8                                       https://g1.globo.com/politica/noticia/tribunal-derruba-decisao-que-suspendeu-atividades-do-instituto-lula.ghtml\n",
       "9                                                                                http://alias.estadao.com.br/noticias/geral,por-cima--nao-acima,1748678\n",
       "10       https://g1.globo.com/politica/noticia/as-6-eleicoes-presidenciais-que-podem-mudar-radicalmente-o-mapa-politico-da-america-latina-em-2018.ghtml\n",
       "11                          https://g1.globo.com/politica/noticia/essa-ideia-da-sociedade-de-que-ninguem-presta-e-muito-perigosa-diz-boris-fausto.ghtml\n",
       "12               http://ciencia.estadao.com.br/noticias/geral,corrida-para-encontrar-vacina-contra-o-zika-testa-os-limites-da-biotecnologia,10000091659\n",
       "13                                 http://politica.estadao.com.br/noticias/geral,renan-acusa-temer-de-negociar-com-janot-para-salvar-amigos,70002020841\n",
       "14    https://g1.globo.com/minas-gerais/triangulo-mineiro/noticia/categorias-protestam-contra-reformas-em-dia-de-paralisacao-no-triangulo-mineiro.ghtml\n",
       "15                          https://g1.globo.com/politica/noticia/joao-santana-recebeu-no-exterior-porque-nao-havia-reais-suficientes-diz-delator.ghtml\n",
       "16                                            http://cultura.estadao.com.br/blogs/divirta-se/vinte-cursos-livres-para-comecar-o-ano-de-2018-aprendendo/\n",
       "17      https://g1.globo.com/politica/operacao-lava-jato/noticia/monica-moura-entrega-reproducao-de-mensagem-trocada-com-dilma-em-e-mail-ficticio.ghtml\n",
       "18                                               http://politica.estadao.com.br/noticias/geral,caravana-de-lula-e-atacada-em-santa-catarina,70002241988\n",
       "19                     https://g1.globo.com/bahia/noticia/multidao-acompanha-missa-de-7-dia-pelas-vitimas-da-tragedia-com-19-mortos-em-mar-grande.ghtml\n",
       "Name: link, dtype: object"
      ]
     },
     "execution_count": 150,
     "metadata": {},
     "output_type": "execute_result"
    }
   ],
   "source": [
    "noticias_true_meta = utils.import_metadata(\"true\")"
   ]
  },
  {
   "cell_type": "code",
   "execution_count": 151,
   "metadata": {},
   "outputs": [],
   "source": [
    "# Após análise manual, 1 representa que a notícia em questão foi verificada e é realmente verdadeira, 0 representa diferença da verificação dos autores\n",
    "noticias_true_meta[\"true\"] = [1, 1, 1, 1, 1, 1, 1, 1, 1, 1, 1, 1, 1, 1, 1, 1, 1, 1, 1, 1]"
   ]
  },
  {
   "cell_type": "code",
   "execution_count": 152,
   "metadata": {},
   "outputs": [],
   "source": [
    "from matplotlib import pyplot as plt\n",
    "from matplotlib import style\n",
    "\n",
    "style.use(\"ggplot\")"
   ]
  },
  {
   "cell_type": "code",
   "execution_count": 167,
   "metadata": {},
   "outputs": [
    {
     "data": {
      "image/png": "[encoded data removed]",
      "text/plain": [
       "<Figure size 432x288 with 1 Axes>"
      ]
     },
     "metadata": {},
     "output_type": "display_data"
    },
    {
     "data": {
      "image/png": "[encoded data removed]",
      "text/plain": [
       "<Figure size 432x288 with 1 Axes>"
      ]
     },
     "metadata": {},
     "output_type": "display_data"
    }
   ],
   "source": [
    "plt.hist(noticias_fake_meta[\"fake\"])\n",
    "plt.xlabel(\"Classificação Correta(Fake)\")\n",
    "plt.xticks([0, 1])\n",
    "plt.show()\n",
    "\n",
    "plt.hist(noticias_true_meta[\"true\"])\n",
    "plt.xlabel(\"Classificação Correta(True)\")\n",
    "plt.xticks([0, 1])\n",
    "plt.show()"
   ]
  },
  {
   "cell_type": "markdown",
   "metadata": {},
   "source": [
    "Como podemos observar, no grupo das notícias classificadas como verdadeiras, nossa checagem concorda com 100% das ocorrências na amostra. Porém este não é o caso para as classificadas como falsas. Utilizaremos intervalos de confiança para estimar a porcentagem de discordância na checagem de toda a população das notícias do corpus."
   ]
  },
  {
   "cell_type": "code",
   "execution_count": 209,
   "metadata": {},
   "outputs": [
    {
     "name": "stdout",
     "output_type": "stream",
     "text": [
      "0.5\n",
      "0.9\n"
     ]
    },
    {
     "data": {
      "text/plain": [
       "<matplotlib.axes._subplots.AxesSubplot at 0x7f6f64de50f0>"
      ]
     },
     "execution_count": 209,
     "metadata": {},
     "output_type": "execute_result"
    },
    {
     "data": {
      "image/png": "[encoded data removed]",
      "text/plain": [
       "<Figure size 432x288 with 1 Axes>"
      ]
     },
     "metadata": {},
     "output_type": "display_data"
    }
   ],
   "source": [
    "import seaborn as sns\n",
    "\n",
    "percent_true = lambda x : list(x).count(1)/len(x)\n",
    "bootstrap_dist = [percent_true(np.random.choice(noticias_fake_meta[\"fake\"], 20, replace=True)) for _ in range(4000)]\n",
    "\n",
    "print(np.percentile(bootstrap_dist, 2.5))\n",
    "print(np.percentile(bootstrap_dist, 97.5))\n",
    "\n",
    "sns.distplot(bootstrap_dist)"
   ]
  }
 ],
 "metadata": {
  "kernelspec": {
   "display_name": "Python 3",
   "language": "python",
   "name": "python3"
  },
  "language_info": {
   "codemirror_mode": {
    "name": "ipython",
    "version": 3
   },
   "file_extension": ".py",
   "mimetype": "text/x-python",
   "name": "python",
   "nbconvert_exporter": "python",
   "pygments_lexer": "ipython3",
   "version": "3.7.3"
  }
 },
 "nbformat": 4,
 "nbformat_minor": 4
}
